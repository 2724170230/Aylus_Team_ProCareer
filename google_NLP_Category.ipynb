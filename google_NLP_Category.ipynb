{
 "cells": [
  {
   "cell_type": "code",
   "execution_count": null,
   "id": "9e0e5a7c",
   "metadata": {},
   "outputs": [],
   "source": [
    "from google.cloud import automl\n",
    "import pandas as pd\n",
    "\n",
    "# TODO(developer): Uncomment and set the following variables\n",
    "project_id = \"balmy-tokenizer-328522\"\n",
    "model_id = \"IOD4412217016962778756\"\n",
    "content = pd.read(\"job_information.csv\")[\"xinxi\"]\n",
    "\n",
    "\n",
    "\n",
    "prediction_client = automl.PredictionServiceClient()\n",
    "\n",
    "# Get the full path of the model.\n",
    "model_full_id = automl.AutoMlClient.model_path(project_id, \"us-central1\", model_id)\n",
    "\n",
    "# Supported mime_types: 'text/plain', 'text/html'\n",
    "# https://cloud.google.com/automl/docs/reference/rpc/google.cloud.automl.v1#textsnippet\n",
    "text_snippet = automl.TextSnippet(content=content, mime_type=\"text/plain\")\n",
    "payload = automl.ExamplePayload(text_snippet=text_snippet)\n",
    "\n",
    "response = prediction_client.predict(name=model_full_id, payload=payload)\n",
    "\n",
    "for annotation_payload in response.payload:\n",
    "    print(u\"Predicted class name: {}\".format(annotation_payload.display_name))\n",
    "    print(\n",
    "        u\"Predicted class score: {}\".format(annotation_payload.classification.score)\n",
    "    )"
   ]
  }
 ],
 "metadata": {
  "kernelspec": {
   "display_name": "Python 3",
   "language": "python",
   "name": "python3"
  },
  "language_info": {
   "codemirror_mode": {
    "name": "ipython",
    "version": 3
   },
   "file_extension": ".py",
   "mimetype": "text/x-python",
   "name": "python",
   "nbconvert_exporter": "python",
   "pygments_lexer": "ipython3",
   "version": "3.8.8"
  }
 },
 "nbformat": 4,
 "nbformat_minor": 5
}
